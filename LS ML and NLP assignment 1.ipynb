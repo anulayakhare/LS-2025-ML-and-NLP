{
 "cells": [
  {
   "cell_type": "markdown",
   "id": "c87e7290",
   "metadata": {},
   "source": [
    "Problem 1"
   ]
  },
  {
   "cell_type": "code",
   "execution_count": 1,
   "id": "f345c2aa",
   "metadata": {},
   "outputs": [
    {
     "name": "stdout",
     "output_type": "stream",
     "text": [
      "Original Array:\n",
      " [[12 45 15 38]\n",
      " [35  9 22 19]\n",
      " [39 14  7 44]\n",
      " [39 18 14 16]\n",
      " [23 13 34 24]]\n",
      "Anti-diagonal Elements: [38, 22, 14, 39]\n",
      "Max value in each row: [45 35 44 39 34]\n",
      "Elements <= Mean (24.00): [12 15  9 22 19 14  7 18 14 16 23 13 24]\n",
      "Boundary Traversal: [12, 45, 15, 38, 19, 44, 16, 24, 34, 13, 23, 39, 39, 35]\n"
     ]
    }
   ],
   "source": [
    "import numpy as np\n",
    "\n",
    "arr = np.random.randint(1, 51, size=(5, 4))\n",
    "print(\"Original Array:\\n\", arr)\n",
    "\n",
    "anti_diag = [arr[i, -i-1] for i in range(min(arr.shape))]\n",
    "print(\"Anti-diagonal Elements:\", anti_diag)\n",
    "\n",
    "max_per_row = np.max(arr, axis=1)\n",
    "print(\"Max value in each row:\", max_per_row)\n",
    "\n",
    "mean_val = np.mean(arr)\n",
    "less_equal_mean = arr[arr <= mean_val]\n",
    "print(\"Elements <= Mean (%.2f):\" % mean_val, less_equal_mean)\n",
    "\n",
    "\n",
    "def numpy_boundary_traversal(matrix):\n",
    "    result = []\n",
    "    rows, cols = matrix.shape\n",
    "    result.extend(matrix[0]) \n",
    "    result.extend(matrix[1:rows-1, -1]) \n",
    "    if rows > 1:\n",
    "        result.extend(matrix[-1][::-1]) \n",
    "        result.extend(matrix[1:rows-1, 0][::-1]) \n",
    "    return result\n",
    "\n",
    "print(\"Boundary Traversal:\", numpy_boundary_traversal(arr))\n"
   ]
  },
  {
   "cell_type": "markdown",
   "id": "371b1f8e",
   "metadata": {},
   "source": [
    "Problem 2"
   ]
  },
  {
   "cell_type": "code",
   "execution_count": 2,
   "id": "efa1e75d",
   "metadata": {},
   "outputs": [
    {
     "name": "stdout",
     "output_type": "stream",
     "text": [
      "Original Array (Rounded): [1.15 2.84 0.2  9.62 8.7  4.13 6.19 5.81 5.22 0.93 0.47 8.3  8.66 1.66\n",
      " 8.36 7.21 3.52 8.36 5.64 8.95]\n",
      "Min: 0.19731372434415362\n",
      "Max: 9.623905149674902\n",
      "Median: 5.725203933595362\n",
      "After squaring values < 5: [ 1.33  8.05  0.04  9.62  8.7  17.07  6.19  5.81  5.22  0.87  0.22  8.3\n",
      "  8.66  2.75  8.36  7.21 12.41  8.36  5.64  8.95]\n",
      "Alternating Sort Result: [ 0.04 17.07  0.22 12.41  0.87  9.62  1.33  8.95  2.75  8.7   5.22  8.66\n",
      "  5.64  8.36  5.81  8.36  6.19  8.3   7.21  8.05]\n"
     ]
    }
   ],
   "source": [
    "\n",
    "arr2 = np.random.uniform(0, 10, size=20)\n",
    "print(\"Original Array (Rounded):\", np.round(arr2, 2))\n",
    "\n",
    "print(\"Min:\", np.min(arr2))\n",
    "print(\"Max:\", np.max(arr2))\n",
    "print(\"Median:\", np.median(arr2))\n",
    "\n",
    "arr2[arr2 < 5] = np.square(arr2[arr2 < 5])\n",
    "print(\"After squaring values < 5:\", np.round(arr2, 2))\n",
    "\n",
    "def numpy_alternate_sort(array):\n",
    "    sorted_arr = np.sort(array)\n",
    "    result = []\n",
    "    i, j = 0, len(sorted_arr) - 1\n",
    "    while i <= j:\n",
    "        if i != j:\n",
    "            result.append(sorted_arr[i])\n",
    "            result.append(sorted_arr[j])\n",
    "        else:\n",
    "            result.append(sorted_arr[i])\n",
    "        i += 1\n",
    "        j -= 1\n",
    "    return np.array(result)\n",
    "\n",
    "print(\"Alternating Sort Result:\", np.round(numpy_alternate_sort(arr2), 2))\n"
   ]
  },
  {
   "cell_type": "markdown",
   "id": "f4fae954",
   "metadata": {},
   "source": [
    "Problem 3"
   ]
  },
  {
   "cell_type": "code",
   "execution_count": 3,
   "id": "b274865d",
   "metadata": {},
   "outputs": [
    {
     "name": "stdout",
     "output_type": "stream",
     "text": [
      "DataFrame Sorted by Score:\n",
      "         Name  Subject  Score Grade\n",
      "3   Student4  English    100     A\n",
      "9  Student10  English     99     A\n",
      "0   Student1     Math     91     A\n",
      "5   Student6     Math     87     B\n",
      "8   Student9  Science     83     B\n",
      "6   Student7     Math     82     B\n",
      "1   Student2  Science     80     B\n",
      "7   Student8     Math     67     D\n",
      "4   Student5  Science     61     D\n",
      "2   Student3  English     50     F\n",
      "Average Score per Subject:\n",
      " Subject\n",
      "English    83.000000\n",
      "Math       81.750000\n",
      "Science    74.666667\n",
      "Name: Score, dtype: float64\n",
      "Filtered Records (A or B Grades):\n",
      "         Name  Subject  Score Grade\n",
      "0   Student1     Math     91     A\n",
      "1   Student2  Science     80     B\n",
      "3   Student4  English    100     A\n",
      "5   Student6     Math     87     B\n",
      "6   Student7     Math     82     B\n",
      "8   Student9  Science     83     B\n",
      "9  Student10  English     99     A\n"
     ]
    }
   ],
   "source": [
    "import pandas as pd\n",
    "import random\n",
    "\n",
    "names = [f\"Student{i+1}\" for i in range(10)]\n",
    "subjects = random.choices([\"Math\", \"Science\", \"English\"], k=10)\n",
    "scores = np.random.randint(50, 101, size=10)\n",
    "grades = []\n",
    "\n",
    "df = pd.DataFrame({\n",
    "    'Name': names,\n",
    "    'Subject': subjects,\n",
    "    'Score': scores,\n",
    "    # 'Grade': grades\n",
    "})\n",
    "\n",
    "def assign_grade(score):\n",
    "    if score >= 90: return 'A'\n",
    "    elif score >= 80: return 'B'\n",
    "    elif score >= 70: return 'C'\n",
    "    elif score >= 60: return 'D'\n",
    "    else: return 'F'\n",
    "\n",
    "df['Grade'] = df['Score'].apply(assign_grade)\n",
    "\n",
    "print(\"DataFrame Sorted by Score:\\n\", df.sort_values(by='Score', ascending=False))\n",
    "\n",
    "avg_subject = df.groupby(\"Subject\")[\"Score\"].mean()\n",
    "print(\"Average Score per Subject:\\n\", avg_subject)\n",
    "\n",
    "def pandas_filter_pass(dataframe):\n",
    "    return dataframe[dataframe['Grade'].isin(['A', 'B'])]\n",
    "\n",
    "print(\"Filtered Records (A or B Grades):\\n\", pandas_filter_pass(df))\n"
   ]
  },
  {
   "cell_type": "markdown",
   "id": "04d62b78",
   "metadata": {},
   "source": [
    "Problem 4"
   ]
  },
  {
   "cell_type": "code",
   "execution_count": 4,
   "id": "b9e28fee",
   "metadata": {},
   "outputs": [
    {
     "name": "stdout",
     "output_type": "stream",
     "text": [
      "Naive Bayes Accuracy: 1.0\n",
      "Example Prediction: negative\n"
     ]
    }
   ],
   "source": [
    "from sklearn.feature_extraction.text import CountVectorizer\n",
    "from sklearn.model_selection import train_test_split\n",
    "from sklearn.naive_bayes import MultinomialNB\n",
    "from sklearn.metrics import accuracy_score\n",
    "\n",
    "positive_reviews = [\"This movie was great!\" for _ in range(50)]\n",
    "negative_reviews = [\"Terrible movie, not recommended.\" for _ in range(50)]\n",
    "reviews = positive_reviews + negative_reviews\n",
    "sentiments = ['positive'] * 50 + ['negative'] * 50\n",
    "\n",
    "df_reviews = pd.DataFrame({'Review': reviews, 'Sentiment': sentiments})\n",
    "\n",
    "vectorizer = CountVectorizer(max_features=500, stop_words='english')\n",
    "X = vectorizer.fit_transform(df_reviews['Review'])\n",
    "y = df_reviews['Sentiment']\n",
    "\n",
    "X_train, X_test, y_train, y_test = train_test_split(X, y, test_size=0.2, random_state=42)\n",
    "\n",
    "model = MultinomialNB()\n",
    "model.fit(X_train, y_train)\n",
    "preds = model.predict(X_test)\n",
    "print(\"Naive Bayes Accuracy:\", accuracy_score(y_test, preds))\n",
    "\n",
    "def predict_review_sentiment(model, vectorizer, review):\n",
    "    vec = vectorizer.transform([review])\n",
    "    return model.predict(vec)[0]\n",
    "\n",
    "print(\"Example Prediction:\", predict_review_sentiment(model, vectorizer, \"What a fantastic film!\"))\n"
   ]
  },
  {
   "cell_type": "markdown",
   "id": "b9aa59ae",
   "metadata": {},
   "source": [
    "Problem 5"
   ]
  },
  {
   "cell_type": "code",
   "execution_count": 5,
   "id": "4bfdff21",
   "metadata": {},
   "outputs": [
    {
     "name": "stdout",
     "output_type": "stream",
     "text": [
      "Logistic Regression Report:\n",
      "               precision    recall  f1-score   support\n",
      "\n",
      "         bad       1.00      1.00      1.00        12\n",
      "        good       1.00      1.00      1.00        13\n",
      "\n",
      "    accuracy                           1.00        25\n",
      "   macro avg       1.00      1.00      1.00        25\n",
      "weighted avg       1.00      1.00      1.00        25\n",
      "\n",
      "Vectorized Output Sample:\n",
      " [[0.         0.         0.         0.70710678 0.         0.70710678\n",
      "  0.        ]]\n"
     ]
    }
   ],
   "source": [
    "from sklearn.feature_extraction.text import TfidfVectorizer\n",
    "from sklearn.linear_model import LogisticRegression\n",
    "from sklearn.metrics import classification_report\n",
    "\n",
    "feedbacks = [\"Good product and great service!\" for _ in range(50)] + [\"Bad quality, very disappointing.\" for _ in range(50)]\n",
    "labels = ['good'] * 50 + ['bad'] * 50\n",
    "\n",
    "vectorizer = TfidfVectorizer(max_features=300, stop_words='english', lowercase=True)\n",
    "X = vectorizer.fit_transform(feedbacks)\n",
    "y = labels\n",
    "\n",
    "X_train, X_test, y_train, y_test = train_test_split(X, y, test_size=0.25, random_state=0)\n",
    "\n",
    "lr = LogisticRegression()\n",
    "lr.fit(X_train, y_train)\n",
    "y_pred = lr.predict(X_test)\n",
    "\n",
    "print(\"Logistic Regression Report:\\n\", classification_report(y_test, y_pred))\n",
    "\n",
    "def text_preprocess_vectorize(texts, vectorizer):\n",
    "    return vectorizer.transform(texts)\n",
    "\n",
    "print(\"Vectorized Output Sample:\\n\", text_preprocess_vectorize([\"Great quality, would buy again!\"], vectorizer).toarray())\n"
   ]
  }
 ],
 "metadata": {
  "kernelspec": {
   "display_name": "Python 3",
   "language": "python",
   "name": "python3"
  },
  "language_info": {
   "codemirror_mode": {
    "name": "ipython",
    "version": 3
   },
   "file_extension": ".py",
   "mimetype": "text/x-python",
   "name": "python",
   "nbconvert_exporter": "python",
   "pygments_lexer": "ipython3",
   "version": "3.12.3"
  }
 },
 "nbformat": 4,
 "nbformat_minor": 5
}
